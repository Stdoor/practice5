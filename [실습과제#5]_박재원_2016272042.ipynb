{
  "cells": [
    {
      "cell_type": "code",
      "execution_count": 1,
      "id": "0e633847",
      "metadata": {
        "colab": {
          "base_uri": "https://localhost:8080/"
        },
        "id": "0e633847",
        "outputId": "1e8dda2d-ecc8-4d92-8490-79ee2f0df585"
      },
      "outputs": [
        {
          "output_type": "stream",
          "name": "stdout",
          "text": [
            "Proceed (y/n)? y\n",
            "y\n",
            "y\n",
            "y\n",
            "y\n",
            "\u001b[K     |████████████████████████████████| 421.8 MB 25 kB/s \n",
            "\u001b[K     |████████████████████████████████| 448 kB 57.6 MB/s \n",
            "\u001b[K     |████████████████████████████████| 50 kB 7.1 MB/s \n",
            "\u001b[K     |████████████████████████████████| 3.8 MB 36.0 MB/s \n",
            "\u001b[?25h  Building wheel for gast (setup.py) ... \u001b[?25l\u001b[?25hdone\n"
          ]
        }
      ],
      "source": [
        "!pip uninstall -q tensorflow tensorflow-estimator tensorboard tensorflow-probability \n",
        "!pip install -q tensorflow==2.1.0 "
      ]
    },
    {
      "cell_type": "code",
      "execution_count": null,
      "id": "29371fa1",
      "metadata": {
        "id": "29371fa1",
        "outputId": "43cc356a-d278-4c7c-c468-9a657e00128d"
      },
      "outputs": [
        {
          "name": "stdout",
          "output_type": "stream",
          "text": [
            "2.1.0\n",
            "/device:GPU:0\n"
          ]
        }
      ],
      "source": [
        "import tensorflow as tf \n",
        "import tensorflow.keras as keras \n",
        "import numpy as np\n",
        "\n",
        "print(tf.__version__)\n",
        "print(tf.test.gpu_device_name())"
      ]
    },
    {
      "cell_type": "code",
      "execution_count": null,
      "id": "14860c7b",
      "metadata": {
        "id": "14860c7b"
      },
      "outputs": [],
      "source": [
        "with open('data.txt', 'r', encoding='utf-8') as f: #한국어 파일을 열기 위해 encoding='utf-8'필요\n",
        "  data_text = f.read()"
      ]
    },
    {
      "cell_type": "code",
      "execution_count": null,
      "id": "a9fd3723",
      "metadata": {
        "id": "a9fd3723",
        "outputId": "cfcade21-0a08-4663-c064-cb60c914ea4e"
      },
      "outputs": [
        {
          "data": {
            "text/plain": [
              "166939"
            ]
          },
          "execution_count": 4,
          "metadata": {},
          "output_type": "execute_result"
        }
      ],
      "source": [
        "len(data_text)"
      ]
    },
    {
      "cell_type": "code",
      "execution_count": null,
      "id": "d0f4a5ad",
      "metadata": {
        "id": "d0f4a5ad"
      },
      "outputs": [],
      "source": [
        "tokenizer = tf.keras.preprocessing.text.Tokenizer(lower=False, char_level=True) \n",
        "tokenizer.fit_on_texts(data_text)"
      ]
    },
    {
      "cell_type": "code",
      "execution_count": null,
      "id": "03c5a6df",
      "metadata": {
        "id": "03c5a6df",
        "outputId": "855fbac4-c6c0-44a6-dc98-6369cef6f34f"
      },
      "outputs": [
        {
          "name": "stdout",
          "output_type": "stream",
          "text": [
            "1771\n",
            "166939\n"
          ]
        }
      ],
      "source": [
        "max_id = len(tokenizer.word_index) # number of distinct characters\n",
        "dataset_size = tokenizer.document_count # total number of characters\n",
        "print(max_id)\n",
        "print(dataset_size)"
      ]
    },
    {
      "cell_type": "code",
      "execution_count": null,
      "id": "f36df3ee",
      "metadata": {
        "id": "f36df3ee"
      },
      "outputs": [],
      "source": [
        "[encoded] = np.array(tokenizer.texts_to_sequences([data_text])) - 1"
      ]
    },
    {
      "cell_type": "code",
      "execution_count": null,
      "id": "8bc9fd21",
      "metadata": {
        "id": "8bc9fd21"
      },
      "outputs": [],
      "source": [
        "train_size = dataset_size * 90 // 100\n",
        "dataset = tf.data.Dataset.from_tensor_slices(encoded[:train_size])"
      ]
    },
    {
      "cell_type": "code",
      "execution_count": null,
      "id": "1a7f34d0",
      "metadata": {
        "id": "1a7f34d0"
      },
      "outputs": [],
      "source": [
        "n_steps = 100\n",
        "window_length = n_steps + 1 # target <= input shifted 1 character ahead\n",
        "dataset = dataset.repeat().window(window_length, shift=1, drop_remainder=True)"
      ]
    },
    {
      "cell_type": "code",
      "execution_count": null,
      "id": "1564c162",
      "metadata": {
        "id": "1564c162"
      },
      "outputs": [],
      "source": [
        "dataset = dataset.flat_map(lambda window: window.batch(window_length))"
      ]
    },
    {
      "cell_type": "code",
      "execution_count": null,
      "id": "9b7977f4",
      "metadata": {
        "id": "9b7977f4"
      },
      "outputs": [],
      "source": [
        "np.random.seed(42)\n",
        "tf.random.set_seed(42)"
      ]
    },
    {
      "cell_type": "code",
      "execution_count": null,
      "id": "63f1d062",
      "metadata": {
        "id": "63f1d062"
      },
      "outputs": [],
      "source": [
        "batch_size = 32\n",
        "dataset = dataset.shuffle(10000).batch(batch_size)\n",
        "dataset = dataset.map(lambda windows: (windows[:, :-1], windows[:, 1:]))"
      ]
    },
    {
      "cell_type": "code",
      "execution_count": null,
      "id": "1e21427b",
      "metadata": {
        "id": "1e21427b"
      },
      "outputs": [],
      "source": [
        "dataset = dataset.map(\n",
        "    lambda X_batch, Y_batch: (tf.one_hot(X_batch, depth=max_id), Y_batch))"
      ]
    },
    {
      "cell_type": "code",
      "execution_count": null,
      "id": "d717f92f",
      "metadata": {
        "id": "d717f92f"
      },
      "outputs": [],
      "source": [
        "dataset = dataset.prefetch(1)"
      ]
    },
    {
      "cell_type": "code",
      "execution_count": null,
      "id": "e75846be",
      "metadata": {
        "id": "e75846be",
        "outputId": "4aeca198-e05e-40e1-b95d-fd480692f252"
      },
      "outputs": [
        {
          "name": "stdout",
          "output_type": "stream",
          "text": [
            "(32, 100, 1771) (32, 100)\n"
          ]
        }
      ],
      "source": [
        "for X_batch, Y_batch in dataset.take(1):\n",
        "    print(X_batch.shape, Y_batch.shape)"
      ]
    },
    {
      "cell_type": "code",
      "execution_count": null,
      "id": "bfeca19e",
      "metadata": {
        "id": "bfeca19e"
      },
      "outputs": [],
      "source": [
        "model = tf.keras.models.Sequential([\n",
        "    tf.keras.layers.GRU(128, return_sequences=True, input_shape=[None, max_id],\n",
        "                     dropout=0.2), #recurrent_dropout=0.2),\n",
        "    tf.keras.layers.GRU(128, return_sequences=True,\n",
        "                     dropout=0.2), #recurrent_dropout=0.2),\n",
        "    tf.keras.layers.TimeDistributed(tf.keras.layers.Dense(max_id,\n",
        "                                                    activation=\"softmax\"))\n",
        "])"
      ]
    },
    {
      "cell_type": "code",
      "execution_count": null,
      "id": "ec4221f8",
      "metadata": {
        "id": "ec4221f8"
      },
      "outputs": [],
      "source": [
        "model.compile(optimizer=\"adam\", loss=\"sparse_categorical_crossentropy\", metrics=['accuracy'])"
      ]
    },
    {
      "cell_type": "code",
      "execution_count": null,
      "id": "abab0f96",
      "metadata": {
        "id": "abab0f96",
        "outputId": "9b0de033-a959-4a98-a35a-e1f90ec7808d"
      },
      "outputs": [
        {
          "name": "stdout",
          "output_type": "stream",
          "text": [
            "Train for 4695 steps\n",
            "Epoch 1/30\n",
            "4695/4695 [==============================] - 179s 38ms/step - loss: 3.8583 - accuracy: 0.3200\n",
            "Epoch 2/30\n",
            "4695/4695 [==============================] - 178s 38ms/step - loss: 2.5043 - accuracy: 0.4722\n",
            "Epoch 3/30\n",
            "4695/4695 [==============================] - 176s 37ms/step - loss: 2.1657 - accuracy: 0.5219\n",
            "Epoch 4/30\n",
            "4695/4695 [==============================] - 175s 37ms/step - loss: 1.9895 - accuracy: 0.5505\n",
            "Epoch 5/30\n",
            "4695/4695 [==============================] - 177s 38ms/step - loss: 1.8788 - accuracy: 0.5694\n",
            "Epoch 6/30\n",
            "4695/4695 [==============================] - 176s 37ms/step - loss: 1.8021 - accuracy: 0.5830\n",
            "Epoch 7/30\n",
            "4695/4695 [==============================] - 177s 38ms/step - loss: 1.7469 - accuracy: 0.5930\n",
            "Epoch 8/30\n",
            "4695/4695 [==============================] - 177s 38ms/step - loss: 1.7040 - accuracy: 0.6012\n",
            "Epoch 9/30\n",
            "4695/4695 [==============================] - 178s 38ms/step - loss: 1.6704 - accuracy: 0.6072\n",
            "Epoch 10/30\n",
            "4695/4695 [==============================] - 175s 37ms/step - loss: 1.6412 - accuracy: 0.6130\n",
            "Epoch 11/30\n",
            "4695/4695 [==============================] - 178s 38ms/step - loss: 1.6178 - accuracy: 0.6174\n",
            "Epoch 12/30\n",
            "4695/4695 [==============================] - 175s 37ms/step - loss: 1.5968 - accuracy: 0.6215\n",
            "Epoch 13/30\n",
            "4695/4695 [==============================] - 177s 38ms/step - loss: 1.5782 - accuracy: 0.6252\n",
            "Epoch 14/30\n",
            "4695/4695 [==============================] - 177s 38ms/step - loss: 1.5634 - accuracy: 0.6280\n",
            "Epoch 15/30\n",
            "4695/4695 [==============================] - 177s 38ms/step - loss: 1.5493 - accuracy: 0.6306\n",
            "Epoch 16/30\n",
            "4695/4695 [==============================] - 177s 38ms/step - loss: 1.5376 - accuracy: 0.6329\n",
            "Epoch 17/30\n",
            "4695/4695 [==============================] - 178s 38ms/step - loss: 1.5256 - accuracy: 0.6354\n",
            "Epoch 18/30\n",
            "4695/4695 [==============================] - 176s 38ms/step - loss: 1.5143 - accuracy: 0.6376\n",
            "Epoch 19/30\n",
            "4695/4695 [==============================] - 176s 37ms/step - loss: 1.5043 - accuracy: 0.6398\n",
            "Epoch 20/30\n",
            "4695/4695 [==============================] - 178s 38ms/step - loss: 1.4963 - accuracy: 0.6413\n",
            "Epoch 21/30\n",
            "4695/4695 [==============================] - 177s 38ms/step - loss: 1.4878 - accuracy: 0.6431\n",
            "Epoch 22/30\n",
            "4695/4695 [==============================] - 179s 38ms/step - loss: 1.4816 - accuracy: 0.6442\n",
            "Epoch 23/30\n",
            "4695/4695 [==============================] - 177s 38ms/step - loss: 1.4761 - accuracy: 0.6453\n",
            "Epoch 24/30\n",
            "4695/4695 [==============================] - 178s 38ms/step - loss: 1.4686 - accuracy: 0.6467\n",
            "Epoch 25/30\n",
            "4695/4695 [==============================] - 175s 37ms/step - loss: 1.4615 - accuracy: 0.6483\n",
            "Epoch 26/30\n",
            "4695/4695 [==============================] - 178s 38ms/step - loss: 1.4562 - accuracy: 0.6493\n",
            "Epoch 27/30\n",
            "4695/4695 [==============================] - 178s 38ms/step - loss: 1.4511 - accuracy: 0.6505\n",
            "Epoch 28/30\n",
            "4695/4695 [==============================] - 175s 37ms/step - loss: 1.4465 - accuracy: 0.6513\n",
            "Epoch 29/30\n",
            "4695/4695 [==============================] - 178s 38ms/step - loss: 1.4427 - accuracy: 0.6520\n",
            "Epoch 30/30\n",
            "4695/4695 [==============================] - 179s 38ms/step - loss: 1.4371 - accuracy: 0.6533\n"
          ]
        }
      ],
      "source": [
        "history = model.fit(dataset, steps_per_epoch=train_size // batch_size, #에포크를 더 늘리면 정확도가 오를것으로 보이나 코랩이 자꾸 튕겨서 더 진행하지 못했습니다ㅠ\n",
        "                    epochs=30)"
      ]
    },
    {
      "cell_type": "code",
      "execution_count": null,
      "id": "2c5d3b2d",
      "metadata": {
        "id": "2c5d3b2d"
      },
      "outputs": [],
      "source": [
        "def preprocess(texts):\n",
        "    X = np.array(tokenizer.texts_to_sequences(texts)) - 1\n",
        "    return tf.one_hot(X, max_id)"
      ]
    },
    {
      "cell_type": "code",
      "execution_count": null,
      "id": "eb0695df",
      "metadata": {
        "id": "eb0695df",
        "outputId": "2cf5e6cd-f50f-468c-ea40-a691edc03b98"
      },
      "outputs": [
        {
          "data": {
            "text/plain": [
              "'아'"
            ]
          },
          "execution_count": 31,
          "metadata": {},
          "output_type": "execute_result"
        }
      ],
      "source": [
        "X_new = preprocess([\"야 이 사람\"])\n",
        "Y_pred = model.predict_classes(X_new)\n",
        "tokenizer.sequences_to_texts(Y_pred + 1)[0][-1] # 1st sentence, last char"
      ]
    },
    {
      "cell_type": "code",
      "execution_count": null,
      "id": "3eb4e40e",
      "metadata": {
        "id": "3eb4e40e",
        "outputId": "29fbe8d8-3445-4ed5-d929-6ea4b8fed369"
      },
      "outputs": [
        {
          "data": {
            "text/plain": [
              "array([[0, 0, 1, 1, 1]], dtype=int64)"
            ]
          },
          "execution_count": 32,
          "metadata": {},
          "output_type": "execute_result"
        }
      ],
      "source": [
        "tf.random.set_seed(42)\n",
        "# https://www.tensorflow.org/versions/r2.1/api_docs/python/tf/random/categorical \n",
        "tf.random.categorical([[np.log(0.5), np.log(0.4), np.log(0.1)]], num_samples=5).numpy()"
      ]
    },
    {
      "cell_type": "code",
      "execution_count": null,
      "id": "0adb7755",
      "metadata": {
        "id": "0adb7755"
      },
      "outputs": [],
      "source": [
        "def next_char(text, temperature=1):\n",
        "    X_new = preprocess([text])\n",
        "    y_proba = model.predict(X_new)[0, -1:, :]\n",
        "    rescaled_logits = tf.math.log(y_proba) / temperature\n",
        "    char_id = tf.random.categorical(rescaled_logits, num_samples=1) + 1\n",
        "    return tokenizer.sequences_to_texts(char_id.numpy())[0]"
      ]
    },
    {
      "cell_type": "code",
      "execution_count": null,
      "id": "6ddf07e2",
      "metadata": {
        "id": "6ddf07e2",
        "outputId": "fed86a4b-09d7-4084-9691-3cb8ad8cbaf4"
      },
      "outputs": [
        {
          "data": {
            "text/plain": [
              "' '"
            ]
          },
          "execution_count": 36,
          "metadata": {},
          "output_type": "execute_result"
        }
      ],
      "source": [
        "tf.random.set_seed(42)\n",
        "\n",
        "next_char(\"야 이 사람\", temperature=1)"
      ]
    },
    {
      "cell_type": "code",
      "execution_count": null,
      "id": "17ea1da6",
      "metadata": {
        "id": "17ea1da6",
        "outputId": "8ff24fba-d4a2-4cfa-c2f4-3ffccc7f0b53"
      },
      "outputs": [
        {
          "data": {
            "text/plain": [
              "'아'"
            ]
          },
          "execution_count": 37,
          "metadata": {},
          "output_type": "execute_result"
        }
      ],
      "source": [
        "next_char(\"야 이 사람\", temperature=0.1)"
      ]
    },
    {
      "cell_type": "code",
      "execution_count": null,
      "id": "cc05ae9f",
      "metadata": {
        "id": "cc05ae9f"
      },
      "outputs": [],
      "source": [
        "def complete_text(text, n_chars=50, temperature=1):\n",
        "    for _ in range(n_chars):\n",
        "        text += next_char(text, temperature)\n",
        "    return text"
      ]
    },
    {
      "cell_type": "code",
      "execution_count": null,
      "id": "ac06b997",
      "metadata": {
        "id": "ac06b997",
        "outputId": "d775903c-6dd1-40ed-f459-900933909e54"
      },
      "outputs": [
        {
          "name": "stdout",
          "output_type": "stream",
          "text": [
            "내 이 기 전에 사뭇 그들먹합니다.\n",
            " 얼굴이 도로 비뚤어진 친구는 광대로 인식 착오를 일으키\n"
          ]
        }
      ],
      "source": [
        "tf.random.set_seed(42)\n",
        "\n",
        "print(complete_text(\"내\", temperature=0.1))"
      ]
    },
    {
      "cell_type": "code",
      "execution_count": null,
      "id": "083d0139",
      "metadata": {
        "id": "083d0139",
        "outputId": "31790ed5-ef82-4986-f7a9-5d5d1b23947d"
      },
      "outputs": [
        {
          "name": "stdout",
          "output_type": "stream",
          "text": [
            "내 시어서 버얼떡 누운 채, 윤직원 영감은 옹색한 좌판에서 가까스로 뒤를 쳐들고, 코무에 꺼\n"
          ]
        }
      ],
      "source": [
        "print(complete_text(\"내\", temperature=0.5))"
      ]
    },
    {
      "cell_type": "code",
      "execution_count": null,
      "id": "7bed8419",
      "metadata": {
        "id": "7bed8419",
        "outputId": "df9ac94b-874c-4afa-9c72-83342b090a5a"
      },
      "outputs": [
        {
          "name": "stdout",
          "output_type": "stream",
          "text": [
            "내에 경손이한테 돈을 50전이면 만원씨의 아저 뒤에 10전심이 을 알고서 서리고 삼백 권이 \n"
          ]
        }
      ],
      "source": [
        "print(complete_text(\"내\", temperature=1))"
      ]
    },
    {
      "cell_type": "code",
      "execution_count": null,
      "id": "55ec9ef9",
      "metadata": {
        "id": "55ec9ef9",
        "outputId": "9297af83-e9a6-47b0-c3b7-3d654f9570e6"
      },
      "outputs": [
        {
          "name": "stdout",
          "output_type": "stream",
          "text": [
            "내환타짜고 죠. 그 이 사람에장은매 군렁개다 되니듯을 듬씬 보채도을 듣럽진 이기면박를 천욱이\n"
          ]
        }
      ],
      "source": [
        "print(complete_text(\"내\", temperature=2))"
      ]
    },
    {
      "cell_type": "code",
      "execution_count": null,
      "id": "7105a4aa",
      "metadata": {
        "id": "7105a4aa",
        "outputId": "f09aeb60-4fd1-419b-e734-f2a51b8e60ff"
      },
      "outputs": [
        {
          "name": "stdout",
          "output_type": "stream",
          "text": [
            "그 니다.\n",
            " 그렇지만, 그건 아까 이 사람이 행에겠다는 게 천하에 더불어 물러오던 것이니까,\n"
          ]
        }
      ],
      "source": [
        "print(complete_text(\"그\", temperature=0.2))"
      ]
    },
    {
      "cell_type": "code",
      "execution_count": null,
      "id": "2d1903ae",
      "metadata": {
        "id": "2d1903ae",
        "outputId": "21c7cb3f-f7d9-46f8-ba8e-7883befcc01e"
      },
      "outputs": [
        {
          "name": "stdout",
          "output_type": "stream",
          "text": [
            "그 좋은 것이지만, 그러나 참 혹은 옹색하고 조심이 되는 게 아닙니다.\n",
            " 그러나 그렇게 여기\n"
          ]
        }
      ],
      "source": [
        "print(complete_text(\"그\", temperature=0.25))"
      ]
    },
    {
      "cell_type": "code",
      "execution_count": null,
      "id": "2be83cab",
      "metadata": {
        "id": "2be83cab",
        "outputId": "daf1144a-31e9-4eed-d296-8fc7ae946b92"
      },
      "outputs": [
        {
          "name": "stdout",
          "output_type": "stream",
          "text": [
            "그런 길러 약짜 좋아야 할 것이지도 하고, 어디 그는 것은 오줌 특약을 해두고는, 새벽이면 \n"
          ]
        }
      ],
      "source": [
        "print(complete_text(\"그\", temperature=0.5))"
      ]
    },
    {
      "cell_type": "code",
      "execution_count": null,
      "id": "bec012fd",
      "metadata": {
        "id": "bec012fd",
        "outputId": "752e9099-0209-4d14-c810-8d80edd9b497"
      },
      "outputs": [
        {
          "name": "stdout",
          "output_type": "stream",
          "text": [
            "그램으로 누시오. 아는 날이라, 그리고 까행 여단운 라고 그래나 못 살고 싶은 게 한번 한푼\n"
          ]
        }
      ],
      "source": [
        "print(complete_text(\"그\", temperature=0.75))"
      ]
    },
    {
      "cell_type": "code",
      "execution_count": null,
      "id": "6d802cdb",
      "metadata": {
        "id": "6d802cdb",
        "outputId": "3ea98a80-4950-44c1-b82a-033801f6d214"
      },
      "outputs": [
        {
          "name": "stdout",
          "output_type": "stream",
          "text": [
            "그니다.\n",
            " 인력거꾼은 혼자코 실복을 할 뿐입니다.\n",
            " 대잔, 통치를 찌푸리면서 방을 받습니다.\n"
          ]
        }
      ],
      "source": [
        "print(complete_text(\"그\", temperature=1))"
      ]
    },
    {
      "cell_type": "code",
      "execution_count": null,
      "id": "e1e9031c",
      "metadata": {
        "id": "e1e9031c",
        "outputId": "5b0e8170-e88c-4c0d-a096-b25154d42aa9"
      },
      "outputs": [
        {
          "name": "stdout",
          "output_type": "stream",
          "text": [
            "그게운돌저넘어 쏜사음 증타미 들 으로습합입죽참!\"사하러 생대은 수조가 듣고 히 하던니다. 을\n"
          ]
        }
      ],
      "source": [
        "print(complete_text(\"그\", temperature=2))"
      ]
    },
    {
      "cell_type": "code",
      "execution_count": null,
      "id": "aca85192",
      "metadata": {
        "id": "aca85192",
        "outputId": "ddf5e2f1-74c6-42b5-d431-7b70d79b2804"
      },
      "outputs": [
        {
          "name": "stdout",
          "output_type": "stream",
          "text": [
            "나는 그 전보 좀 건너다니 그 게 명색이 마 소작  인력거꾼은 여태 였었읍니다. 그러나 이렇게\n"
          ]
        }
      ],
      "source": [
        "print(complete_text(\"나는\", temperature=0.25))"
      ]
    }
  ],
  "metadata": {
    "kernelspec": {
      "display_name": "Python 3 (ipykernel)",
      "language": "python",
      "name": "python3"
    },
    "language_info": {
      "codemirror_mode": {
        "name": "ipython",
        "version": 3
      },
      "file_extension": ".py",
      "mimetype": "text/x-python",
      "name": "python",
      "nbconvert_exporter": "python",
      "pygments_lexer": "ipython3",
      "version": "3.7.11"
    },
    "colab": {
      "name": "Untitled.ipynb",
      "provenance": [],
      "collapsed_sections": []
    }
  },
  "nbformat": 4,
  "nbformat_minor": 5
}